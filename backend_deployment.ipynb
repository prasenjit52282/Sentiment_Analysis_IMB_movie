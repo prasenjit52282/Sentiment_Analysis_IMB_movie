{
 "cells": [
  {
   "cell_type": "code",
   "execution_count": 1,
   "metadata": {},
   "outputs": [],
   "source": [
    "import json\n",
    "from flask import Flask,request\n",
    "from flask import jsonify\n",
    "from flask_cors import cross_origin\n",
    "import tensorflow.keras as keras\n",
    "\n",
    "import string\n",
    "import re\n",
    "\n",
    "from nltk.corpus import stopwords\n",
    "from nltk import word_tokenize,pos_tag\n",
    "from nltk.stem import WordNetLemmatizer \n",
    "from nltk.corpus import wordnet as wn\n",
    "from collections import defaultdict\n",
    "from tqdm import tqdm\n",
    "\n",
    "eng_sw=stopwords.words('english')\n",
    "\n",
    "tag_map = defaultdict(lambda : wn.NOUN)\n",
    "tag_map['J'] = wn.ADJ\n",
    "tag_map['V'] = wn.VERB\n",
    "tag_map['R'] = wn.ADV\n",
    "  \n",
    "lemmatizer = WordNetLemmatizer()\n",
    "\n",
    "with open('./logs/tokenizer.json','r') as f:\n",
    "    tokenizer_json=json.load(f)\n",
    "\n",
    "tokenizer=keras.preprocessing.text.tokenizer_from_json(tokenizer_json)\n",
    "model=keras.models.load_model('./logs/model.h5')"
   ]
  },
  {
   "cell_type": "code",
   "execution_count": 2,
   "metadata": {},
   "outputs": [],
   "source": [
    "def give_data(sent):\n",
    "    #punctuation removal\n",
    "    sent=re.sub('['+string.punctuation+']',' ',sent)\n",
    "    #tokenize\n",
    "    tokens=word_tokenize(sent)\n",
    "    #lower case convertion & POS tagging\n",
    "    tokens_pos=pos_tag([w.lower() for w in tokens])\n",
    "    #stopwords removal & only words & len(word)>2 & lemmatization\n",
    "    major_sent=[lemmatizer.lemmatize(w,tag_map[pos[0]]) for w,pos in tokens_pos if( (w not in eng_sw) \n",
    "                                                                                      and (w.isalpha()) \n",
    "                                                                                      and (len(w)>2))]\n",
    "    major_sent=' '.join(major_sent)\n",
    "\n",
    "    pad_embed_sent=\\\n",
    "    keras.preprocessing.sequence.pad_sequences(tokenizer.texts_to_sequences([major_sent]),maxlen=500)\n",
    "\n",
    "    data = [\n",
    "      {\n",
    "        'x': ['Negative', 'Positive'],\n",
    "        'y': [float(e) for e in model.predict(pad_embed_sent)[0]],\n",
    "        \"marker\":{\"color\": ['rgba(255,0,0,0.5)', 'rgba(0,255,0,0.5)']},\n",
    "        'type': 'bar'\n",
    "      }\n",
    "    ];\n",
    "    return data"
   ]
  },
  {
   "cell_type": "code",
   "execution_count": 3,
   "metadata": {},
   "outputs": [],
   "source": [
    "app = Flask(__name__)\n",
    "\n",
    "@app.route('/',methods=['GET'])\n",
    "@cross_origin()\n",
    "def hello_world():\n",
    "    review = request.args.get('review')\n",
    "    data=give_data(review)\n",
    "    return jsonify(data)"
   ]
  },
  {
   "cell_type": "code",
   "execution_count": 4,
   "metadata": {
    "scrolled": true
   },
   "outputs": [
    {
     "name": "stdout",
     "output_type": "stream",
     "text": [
      " * Serving Flask app \"__main__\" (lazy loading)\n",
      " * Environment: production\n",
      "   WARNING: This is a development server. Do not use it in a production deployment.\n",
      "   Use a production WSGI server instead.\n",
      " * Debug mode: off\n"
     ]
    },
    {
     "name": "stderr",
     "output_type": "stream",
     "text": [
      " * Running on http://127.0.0.1:5000/ (Press CTRL+C to quit)\n",
      "127.0.0.1 - - [29/Dec/2020 00:02:18] \"GET /?review=i%20love%20it HTTP/1.1\" 200 -\n",
      "127.0.0.1 - - [29/Dec/2020 00:02:19] \"GET /?review=i%20love%20it HTTP/1.1\" 200 -\n",
      "127.0.0.1 - - [29/Dec/2020 00:02:28] \"GET /?review=i%20love%20it HTTP/1.1\" 200 -\n",
      "127.0.0.1 - - [29/Dec/2020 00:02:39] \"GET /?review=i%20love%20it%20very%20much HTTP/1.1\" 200 -\n",
      "127.0.0.1 - - [29/Dec/2020 00:02:54] \"GET /?review=i%20love%20it%20very%20much%20and%20also%20hate%20it%20at%20the%20same%20time HTTP/1.1\" 200 -\n",
      "127.0.0.1 - - [29/Dec/2020 00:03:54] \"GET /?review=i%20love%20it%20as%20much%20as%20i%20hate%20it HTTP/1.1\" 200 -\n",
      "127.0.0.1 - - [29/Dec/2020 00:05:23] \"GET /?review=title:%20%27Least%20Used%20Feature%27 HTTP/1.1\" 200 -\n",
      "127.0.0.1 - - [29/Dec/2020 00:05:54] \"GET /?review=title:%20%27Least%20Used%20Feature%27 HTTP/1.1\" 200 -\n",
      "127.0.0.1 - - [29/Dec/2020 00:07:25] \"GET /?review=title:%20%27Least%20Used%20Feature%27 HTTP/1.1\" 200 -\n",
      "127.0.0.1 - - [29/Dec/2020 00:08:51] \"GET /?review={%20%20%20%20%20%20%20%20%20%20%20%20%20%20%20%20%20%20%20%20%20%20%20%20%20%20%20%20%20%20%20%20%20%20%20%20%20%20%20%20%20%20%20%20%20%20%20%20margin:%20{t:%200,l:0,r:0,d:0},%20%20%20%20%20%20%20%20%20%20%20%20%20%20%20%20%20%20%20%20%20%20%20%20%20%20%20%20%20%20%20%20%20%20%20%20%20%20%20%20%20%20%20%20%20%20%20%20title:%20%27Least%20Used%20Feature%27%20%20%20%20%20%20%20%20%20%20%20%20%20%20%20%20%20%20%20%20%20%20%20%20%20%20%20%20%20%20%20%20%20%20%20%20%20%20%20%20%20%20%20%20%20%20} HTTP/1.1\" 200 -\n",
      "127.0.0.1 - - [29/Dec/2020 00:10:39] \"GET /?review=i%20love%20it HTTP/1.1\" 200 -\n",
      "127.0.0.1 - - [29/Dec/2020 00:11:24] \"GET /?review=i%20love%20it HTTP/1.1\" 200 -\n",
      "127.0.0.1 - - [29/Dec/2020 00:12:04] \"GET /?review=i%20love%20it HTTP/1.1\" 200 -\n",
      "127.0.0.1 - - [29/Dec/2020 00:13:36] \"GET /?review=i%20love%20it HTTP/1.1\" 200 -\n",
      "127.0.0.1 - - [29/Dec/2020 00:14:39] \"GET /?review=i%20love%20it HTTP/1.1\" 200 -\n",
      "127.0.0.1 - - [29/Dec/2020 00:15:13] \"GET /?review=i%20love%20%20it HTTP/1.1\" 200 -\n",
      "127.0.0.1 - - [29/Dec/2020 00:15:38] \"GET /?review=i%20love%20it HTTP/1.1\" 200 -\n",
      "127.0.0.1 - - [29/Dec/2020 00:15:58] \"GET /?review=hello%20i%20like%20the%20movie HTTP/1.1\" 200 -\n",
      "127.0.0.1 - - [29/Dec/2020 00:16:37] \"GET /?review=i%20love%20%20it HTTP/1.1\" 200 -\n",
      "127.0.0.1 - - [29/Dec/2020 00:17:00] \"GET /?review=i%20love%20%20it HTTP/1.1\" 200 -\n",
      "127.0.0.1 - - [29/Dec/2020 00:17:01] \"GET /?review=i%20love%20%20it HTTP/1.1\" 200 -\n",
      "127.0.0.1 - - [29/Dec/2020 00:17:03] \"GET /?review=i%20love%20%20it HTTP/1.1\" 200 -\n",
      "127.0.0.1 - - [29/Dec/2020 00:17:04] \"GET /?review=i%20love%20%20it HTTP/1.1\" 200 -\n",
      "127.0.0.1 - - [29/Dec/2020 00:17:17] \"GET /?review=i%20love%20%20it%20as%20much%20as%20my%20life HTTP/1.1\" 200 -\n",
      "127.0.0.1 - - [29/Dec/2020 00:18:39] \"GET /?review=I%20Love%20it HTTP/1.1\" 200 -\n"
     ]
    }
   ],
   "source": [
    "app.run()"
   ]
  },
  {
   "cell_type": "code",
   "execution_count": 5,
   "metadata": {},
   "outputs": [],
   "source": [
    "#NICE"
   ]
  }
 ],
 "metadata": {
  "kernelspec": {
   "display_name": "Python 3",
   "language": "python",
   "name": "python3"
  },
  "language_info": {
   "codemirror_mode": {
    "name": "ipython",
    "version": 3
   },
   "file_extension": ".py",
   "mimetype": "text/x-python",
   "name": "python",
   "nbconvert_exporter": "python",
   "pygments_lexer": "ipython3",
   "version": "3.7.4"
  }
 },
 "nbformat": 4,
 "nbformat_minor": 2
}
