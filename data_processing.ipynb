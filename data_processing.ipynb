{
 "cells": [
  {
   "cell_type": "code",
   "execution_count": 1,
   "metadata": {},
   "outputs": [],
   "source": [
    "import pandas as pd\n",
    "import numpy as np"
   ]
  },
  {
   "cell_type": "code",
   "execution_count": 2,
   "metadata": {},
   "outputs": [],
   "source": [
    "df=pd.read_csv('my_data.csv')"
   ]
  },
  {
   "cell_type": "code",
   "execution_count": 3,
   "metadata": {},
   "outputs": [
    {
     "data": {
      "text/html": [
       "<div>\n",
       "<style scoped>\n",
       "    .dataframe tbody tr th:only-of-type {\n",
       "        vertical-align: middle;\n",
       "    }\n",
       "\n",
       "    .dataframe tbody tr th {\n",
       "        vertical-align: top;\n",
       "    }\n",
       "\n",
       "    .dataframe thead th {\n",
       "        text-align: right;\n",
       "    }\n",
       "</style>\n",
       "<table border=\"1\" class=\"dataframe\">\n",
       "  <thead>\n",
       "    <tr style=\"text-align: right;\">\n",
       "      <th></th>\n",
       "      <th>review</th>\n",
       "      <th>sentiment</th>\n",
       "    </tr>\n",
       "  </thead>\n",
       "  <tbody>\n",
       "    <tr>\n",
       "      <td>0</td>\n",
       "      <td>I went and saw this movie last night after bei...</td>\n",
       "      <td>1</td>\n",
       "    </tr>\n",
       "    <tr>\n",
       "      <td>1</td>\n",
       "      <td>Actor turned director Bill Paxton follows up h...</td>\n",
       "      <td>1</td>\n",
       "    </tr>\n",
       "    <tr>\n",
       "      <td>2</td>\n",
       "      <td>As a recreational golfer with some knowledge o...</td>\n",
       "      <td>1</td>\n",
       "    </tr>\n",
       "    <tr>\n",
       "      <td>3</td>\n",
       "      <td>I saw this film in a sneak preview, and it is ...</td>\n",
       "      <td>1</td>\n",
       "    </tr>\n",
       "    <tr>\n",
       "      <td>4</td>\n",
       "      <td>Bill Paxton has taken the true story of the 19...</td>\n",
       "      <td>1</td>\n",
       "    </tr>\n",
       "  </tbody>\n",
       "</table>\n",
       "</div>"
      ],
      "text/plain": [
       "                                              review  sentiment\n",
       "0  I went and saw this movie last night after bei...          1\n",
       "1  Actor turned director Bill Paxton follows up h...          1\n",
       "2  As a recreational golfer with some knowledge o...          1\n",
       "3  I saw this film in a sneak preview, and it is ...          1\n",
       "4  Bill Paxton has taken the true story of the 19...          1"
      ]
     },
     "execution_count": 3,
     "metadata": {},
     "output_type": "execute_result"
    }
   ],
   "source": [
    "df.head()"
   ]
  },
  {
   "cell_type": "code",
   "execution_count": 4,
   "metadata": {},
   "outputs": [],
   "source": [
    "import string\n",
    "import re"
   ]
  },
  {
   "cell_type": "code",
   "execution_count": 5,
   "metadata": {},
   "outputs": [],
   "source": [
    "from nltk.corpus import stopwords\n",
    "from nltk import word_tokenize,pos_tag\n",
    "from nltk.stem import WordNetLemmatizer \n",
    "from nltk.corpus import wordnet as wn\n",
    "from collections import defaultdict\n",
    "from tqdm import tqdm\n",
    "\n",
    "eng_sw=stopwords.words('english')\n",
    "\n",
    "tag_map = defaultdict(lambda : wn.NOUN)\n",
    "tag_map['J'] = wn.ADJ\n",
    "tag_map['V'] = wn.VERB\n",
    "tag_map['R'] = wn.ADV\n",
    "  \n",
    "lemmatizer = WordNetLemmatizer()"
   ]
  },
  {
   "cell_type": "code",
   "execution_count": 6,
   "metadata": {},
   "outputs": [
    {
     "name": "stdout",
     "output_type": "stream",
     "text": [
      "[('i', 'JJ'), ('went', 'VBD'), ('and', 'CC'), ('saw', 'VBD'), ('this', 'DT'), ('movie', 'NN'), ('last', 'JJ'), ('night', 'NN'), ('after', 'IN'), ('being', 'VBG'), ('coaxed', 'VBN'), ('to', 'TO'), ('by', 'IN'), ('a', 'DT'), ('few', 'JJ'), ('friends', 'NNS'), ('of', 'IN'), ('mine', 'NN'), ('ill', 'NN'), ('admit', 'VBP'), ('that', 'IN'), ('i', 'NN'), ('was', 'VBD'), ('reluctant', 'JJ'), ('to', 'TO'), ('see', 'VB'), ('it', 'PRP'), ('because', 'IN'), ('from', 'IN'), ('what', 'WP'), ('i', 'JJ'), ('knew', 'NN'), ('of', 'IN'), ('ashton', 'NN'), ('kutcher', 'NN'), ('he', 'PRP'), ('was', 'VBD'), ('only', 'RB'), ('able', 'JJ'), ('to', 'TO'), ('do', 'VB'), ('comedy', 'NN'), ('i', 'NN'), ('was', 'VBD'), ('wrong', 'JJ'), ('kutcher', 'RB'), ('played', 'VBD'), ('the', 'DT'), ('character', 'NN'), ('of', 'IN'), ('jake', 'NN'), ('fischer', 'NN'), ('very', 'RB'), ('well', 'RB'), ('and', 'CC'), ('kevin', 'VB'), ('costner', 'JJR'), ('played', 'JJ'), ('ben', 'NN'), ('randall', 'NN'), ('with', 'IN'), ('such', 'JJ'), ('professionalism', 'NN'), ('the', 'DT'), ('sign', 'NN'), ('of', 'IN'), ('a', 'DT'), ('good', 'JJ'), ('movie', 'NN'), ('is', 'VBZ'), ('that', 'IN'), ('it', 'PRP'), ('can', 'MD'), ('toy', 'VB'), ('with', 'IN'), ('our', 'PRP$'), ('emotions', 'NNS'), ('this', 'DT'), ('one', 'CD'), ('did', 'VBD'), ('exactly', 'RB'), ('that', 'IN'), ('the', 'DT'), ('entire', 'JJ'), ('theater', 'NN'), ('which', 'WDT'), ('was', 'VBD'), ('sold', 'VBN'), ('out', 'RP'), ('was', 'VBD'), ('overcome', 'VBN'), ('by', 'IN'), ('laughter', 'NN'), ('during', 'IN'), ('the', 'DT'), ('first', 'JJ'), ('half', 'NN'), ('of', 'IN'), ('the', 'DT'), ('movie', 'NN'), ('and', 'CC'), ('were', 'VBD'), ('moved', 'VBN'), ('to', 'TO'), ('tears', 'NNS'), ('during', 'IN'), ('the', 'DT'), ('second', 'JJ'), ('half', 'NN'), ('while', 'IN'), ('exiting', 'VBG'), ('the', 'DT'), ('theater', 'NN'), ('i', 'NN'), ('not', 'RB'), ('only', 'RB'), ('saw', 'VBD'), ('many', 'JJ'), ('women', 'NNS'), ('in', 'IN'), ('tears', 'NNS'), ('but', 'CC'), ('many', 'JJ'), ('full', 'JJ'), ('grown', 'VBN'), ('men', 'NNS'), ('as', 'IN'), ('well', 'RB'), ('trying', 'VBG'), ('desperately', 'RB'), ('not', 'RB'), ('to', 'TO'), ('let', 'VB'), ('anyone', 'NN'), ('see', 'VB'), ('them', 'PRP'), ('crying', 'VBG'), ('this', 'DT'), ('movie', 'NN'), ('was', 'VBD'), ('great', 'JJ'), ('and', 'CC'), ('i', 'JJ'), ('suggest', 'VBP'), ('that', 'IN'), ('you', 'PRP'), ('go', 'VBP'), ('see', 'VB'), ('it', 'PRP'), ('before', 'IN'), ('you', 'PRP'), ('judge', 'VBP')]\n"
     ]
    },
    {
     "name": "stdout",
     "output_type": "stream",
     "text": [
      "[('actor', 'NN'), ('turned', 'VBD'), ('director', 'NN'), ('bill', 'NN'), ('paxton', 'NN'), ('follows', 'VBZ'), ('up', 'RP'), ('his', 'PRP$'), ('promising', 'NN'), ('debut', 'NN'), ('the', 'DT'), ('gothichorror', 'NN'), ('frailty', 'NN'), ('with', 'IN'), ('this', 'DT'), ('family', 'NN'), ('friendly', 'JJ'), ('sports', 'NNS'), ('drama', 'NN'), ('about', 'IN'), ('the', 'DT'), ('1913', 'CD'), ('us', 'PRP'), ('open', 'VB'), ('where', 'WRB'), ('a', 'DT'), ('young', 'JJ'), ('american', 'JJ'), ('caddy', 'NN'), ('rises', 'NNS'), ('from', 'IN'), ('his', 'PRP$'), ('humble', 'JJ'), ('background', 'NN'), ('to', 'TO'), ('play', 'VB'), ('against', 'IN'), ('his', 'PRP$'), ('bristish', 'JJ'), ('idol', 'NN'), ('in', 'IN'), ('what', 'WP'), ('was', 'VBD'), ('dubbed', 'VBN'), ('as', 'IN'), ('the', 'DT'), ('greatest', 'JJS'), ('game', 'NN'), ('ever', 'RB'), ('played', 'VBD'), ('im', 'JJ'), ('no', 'DT'), ('fan', 'NN'), ('of', 'IN'), ('golf', 'NN'), ('and', 'CC'), ('these', 'DT'), ('scrappy', 'JJ'), ('underdog', 'NN'), ('sports', 'NNS'), ('flicks', 'NNS'), ('are', 'VBP'), ('a', 'DT'), ('dime', 'NN'), ('a', 'DT'), ('dozen', 'NN'), ('most', 'RBS'), ('recently', 'RB'), ('done', 'VBN'), ('to', 'TO'), ('grand', 'JJ'), ('effect', 'NN'), ('with', 'IN'), ('miracle', 'NN'), ('and', 'CC'), ('cinderella', 'NN'), ('man', 'NN'), ('but', 'CC'), ('some', 'DT'), ('how', 'WRB'), ('this', 'DT'), ('film', 'NN'), ('was', 'VBD'), ('enthralling', 'VBG'), ('all', 'PDT'), ('the', 'DT'), ('samebr', 'NN'), ('br', 'VBD'), ('the', 'DT'), ('film', 'NN'), ('starts', 'VBZ'), ('with', 'IN'), ('some', 'DT'), ('creative', 'JJ'), ('opening', 'NN'), ('credits', 'NNS'), ('imagine', 'VBP'), ('a', 'DT'), ('disneyfied', 'JJ'), ('version', 'NN'), ('of', 'IN'), ('the', 'DT'), ('animated', 'JJ'), ('opening', 'NN'), ('credits', 'NNS'), ('of', 'IN'), ('hbos', 'JJ'), ('carnivale', 'NN'), ('and', 'CC'), ('rome', 'NN'), ('but', 'CC'), ('lumbers', 'NNS'), ('along', 'IN'), ('slowly', 'RB'), ('for', 'IN'), ('its', 'PRP$'), ('first', 'JJ'), ('bythenumbers', 'NNS'), ('hour', 'NN'), ('once', 'IN'), ('the', 'DT'), ('action', 'NN'), ('moves', 'VBZ'), ('to', 'TO'), ('the', 'DT'), ('us', 'PRP'), ('open', 'JJ'), ('things', 'NNS'), ('pick', 'VBP'), ('up', 'RP'), ('very', 'RB'), ('well', 'RB'), ('paxton', 'NN'), ('does', 'VBZ'), ('a', 'DT'), ('nice', 'JJ'), ('job', 'NN'), ('and', 'CC'), ('shows', 'VBZ'), ('a', 'DT'), ('knack', 'NN'), ('for', 'IN'), ('effective', 'JJ'), ('directorial', 'JJ'), ('flourishes', 'NNS'), ('i', 'VBP'), ('loved', 'VBD'), ('the', 'DT'), ('rainsoaked', 'JJ'), ('montage', 'NN'), ('of', 'IN'), ('the', 'DT'), ('action', 'NN'), ('on', 'IN'), ('day', 'NN'), ('two', 'CD'), ('of', 'IN'), ('the', 'DT'), ('open', 'JJ'), ('that', 'WDT'), ('propel', 'VBP'), ('the', 'DT'), ('plot', 'NN'), ('further', 'RBR'), ('or', 'CC'), ('add', 'VB'), ('some', 'DT'), ('unexpected', 'JJ'), ('psychological', 'JJ'), ('depth', 'NN'), ('to', 'TO'), ('the', 'DT'), ('proceedings', 'NNS'), ('theres', 'VBZ'), ('some', 'DT'), ('compelling', 'JJ'), ('character', 'NN'), ('development', 'NN'), ('when', 'WRB'), ('the', 'DT'), ('british', 'JJ'), ('harry', 'NN'), ('vardon', 'NN'), ('is', 'VBZ'), ('haunted', 'VBN'), ('by', 'IN'), ('images', 'NNS'), ('of', 'IN'), ('the', 'DT'), ('aristocrats', 'NNS'), ('in', 'IN'), ('black', 'JJ'), ('suits', 'NNS'), ('and', 'CC'), ('top', 'JJ'), ('hats', 'NNS'), ('who', 'WP'), ('destroyed', 'VBD'), ('his', 'PRP$'), ('family', 'NN'), ('cottage', 'NN'), ('as', 'IN'), ('a', 'DT'), ('child', 'NN'), ('to', 'TO'), ('make', 'VB'), ('way', 'NN'), ('for', 'IN'), ('a', 'DT'), ('golf', 'NN'), ('course', 'NN'), ('he', 'PRP'), ('also', 'RB'), ('does', 'VBZ'), ('a', 'DT'), ('good', 'JJ'), ('job', 'NN'), ('of', 'IN'), ('visually', 'RB'), ('depicting', 'VBG'), ('what', 'WP'), ('goes', 'VBZ'), ('on', 'IN'), ('in', 'IN'), ('the', 'DT'), ('players', 'NNS'), ('heads', 'NNS'), ('under', 'IN'), ('pressure', 'NN'), ('golf', 'NN'), ('a', 'DT'), ('painfully', 'RB'), ('boring', 'JJ'), ('sport', 'NN'), ('is', 'VBZ'), ('brought', 'VBN'), ('vividly', 'RB'), ('alive', 'JJ'), ('here', 'RB'), ('credit', 'NN'), ('should', 'MD'), ('also', 'RB'), ('be', 'VB'), ('given', 'VBN'), ('the', 'DT'), ('set', 'NN'), ('designers', 'NNS'), ('and', 'CC'), ('costume', 'VB'), ('department', 'NN'), ('for', 'IN'), ('creating', 'VBG'), ('an', 'DT'), ('engaging', 'VBG'), ('periodpiece', 'NN'), ('atmosphere', 'NN'), ('of', 'IN'), ('london', 'NN'), ('and', 'CC'), ('boston', 'NN'), ('at', 'IN'), ('the', 'DT'), ('beginning', 'NN'), ('of', 'IN'), ('the', 'DT'), ('twentieth', 'NN'), ('centurybr', 'NN'), ('br', 'IN'), ('you', 'PRP'), ('know', 'VBP'), ('how', 'WRB'), ('this', 'DT'), ('is', 'VBZ'), ('going', 'VBG'), ('to', 'TO'), ('end', 'VB'), ('not', 'RB'), ('only', 'RB'), ('because', 'IN'), ('its', 'PRP$'), ('based', 'VBN'), ('on', 'IN'), ('a', 'DT'), ('true', 'JJ'), ('story', 'NN'), ('but', 'CC'), ('also', 'RB'), ('because', 'IN'), ('films', 'NNS'), ('in', 'IN'), ('this', 'DT'), ('genre', 'NN'), ('follow', 'VBP'), ('the', 'DT'), ('same', 'JJ'), ('template', 'NN'), ('over', 'IN'), ('and', 'CC'), ('over', 'IN'), ('but', 'CC'), ('paxton', 'FW'), ('puts', 'VBZ'), ('on', 'IN'), ('a', 'DT'), ('better', 'JJR'), ('than', 'IN'), ('average', 'JJ'), ('show', 'NN'), ('and', 'CC'), ('perhaps', 'RB'), ('indicates', 'VBZ'), ('more', 'RBR'), ('talent', 'NN'), ('behind', 'IN'), ('the', 'DT'), ('camera', 'NN'), ('than', 'IN'), ('he', 'PRP'), ('ever', 'RB'), ('had', 'VBD'), ('in', 'IN'), ('front', 'NN'), ('of', 'IN'), ('it', 'PRP'), ('despite', 'IN'), ('the', 'DT'), ('formulaic', 'JJ'), ('nature', 'NN'), ('this', 'DT'), ('is', 'VBZ'), ('a', 'DT'), ('nice', 'JJ'), ('and', 'CC'), ('easy', 'JJ'), ('film', 'NN'), ('to', 'TO'), ('root', 'VB'), ('for', 'IN'), ('that', 'DT'), ('deserves', 'VBZ'), ('to', 'TO'), ('find', 'VB'), ('an', 'DT'), ('audience', 'NN')]\n"
     ]
    },
    {
     "name": "stdout",
     "output_type": "stream",
     "text": [
      "[('as', 'IN'), ('a', 'DT'), ('recreational', 'JJ'), ('golfer', 'NN'), ('with', 'IN'), ('some', 'DT'), ('knowledge', 'NN'), ('of', 'IN'), ('the', 'DT'), ('sports', 'NNS'), ('history', 'NN'), ('i', 'NN'), ('was', 'VBD'), ('pleased', 'JJ'), ('with', 'IN'), ('disneys', 'NNS'), ('sensitivity', 'NN'), ('to', 'TO'), ('the', 'DT'), ('issues', 'NNS'), ('of', 'IN'), ('class', 'NN'), ('in', 'IN'), ('golf', 'NN'), ('in', 'IN'), ('the', 'DT'), ('early', 'JJ'), ('twentieth', 'JJ'), ('century', 'NN'), ('the', 'DT'), ('movie', 'NN'), ('depicted', 'VBN'), ('well', 'RB'), ('the', 'DT'), ('psychological', 'JJ'), ('battles', 'NNS'), ('that', 'WDT'), ('harry', 'VBP'), ('vardon', 'JJ'), ('fought', 'NN'), ('within', 'IN'), ('himself', 'PRP'), ('from', 'IN'), ('his', 'PRP$'), ('childhood', 'NN'), ('trauma', 'NN'), ('of', 'IN'), ('being', 'VBG'), ('evicted', 'VBN'), ('to', 'TO'), ('his', 'PRP$'), ('own', 'JJ'), ('inability', 'NN'), ('to', 'TO'), ('break', 'VB'), ('that', 'IN'), ('glass', 'NN'), ('ceiling', 'NN'), ('that', 'WDT'), ('prevents', 'VBZ'), ('him', 'PRP'), ('from', 'IN'), ('being', 'VBG'), ('accepted', 'VBN'), ('as', 'IN'), ('an', 'DT'), ('equal', 'JJ'), ('in', 'IN'), ('english', 'JJ'), ('golf', 'NN'), ('society', 'NN'), ('likewise', 'VBP'), ('the', 'DT'), ('young', 'JJ'), ('ouimet', 'NN'), ('goes', 'VBZ'), ('through', 'IN'), ('his', 'PRP$'), ('own', 'JJ'), ('class', 'NN'), ('struggles', 'VBZ'), ('being', 'VBG'), ('a', 'DT'), ('mere', 'JJ'), ('caddie', 'NN'), ('in', 'IN'), ('the', 'DT'), ('eyes', 'NNS'), ('of', 'IN'), ('the', 'DT'), ('upper', 'JJ'), ('crust', 'NN'), ('americans', 'NNS'), ('who', 'WP'), ('scoff', 'VBP'), ('at', 'IN'), ('his', 'PRP$'), ('attempts', 'NNS'), ('to', 'TO'), ('rise', 'VB'), ('above', 'IN'), ('his', 'PRP$'), ('standing', 'VBG'), ('br', 'NN'), ('br', 'IN'), ('what', 'WP'), ('i', 'VBZ'), ('loved', 'VBD'), ('best', 'JJS'), ('however', 'RB'), ('is', 'VBZ'), ('how', 'WRB'), ('this', 'DT'), ('theme', 'NN'), ('of', 'IN'), ('class', 'NN'), ('is', 'VBZ'), ('manifested', 'VBN'), ('in', 'IN'), ('the', 'DT'), ('characters', 'NNS'), ('of', 'IN'), ('ouimets', 'NNS'), ('parents', 'NNS'), ('his', 'PRP$'), ('father', 'NN'), ('is', 'VBZ'), ('a', 'DT'), ('workingclass', 'NN'), ('drone', 'NN'), ('who', 'WP'), ('sees', 'VBZ'), ('the', 'DT'), ('value', 'NN'), ('of', 'IN'), ('hard', 'JJ'), ('work', 'NN'), ('but', 'CC'), ('is', 'VBZ'), ('intimidated', 'VBN'), ('by', 'IN'), ('the', 'DT'), ('upper', 'JJ'), ('class', 'NN'), ('his', 'PRP$'), ('mother', 'NN'), ('however', 'RB'), ('recognizes', 'VBZ'), ('her', 'PRP$'), ('sons', 'NNS'), ('talent', 'NN'), ('and', 'CC'), ('desire', 'NN'), ('and', 'CC'), ('encourages', 'VBZ'), ('him', 'PRP'), ('to', 'TO'), ('pursue', 'VB'), ('his', 'PRP$'), ('dream', 'NN'), ('of', 'IN'), ('competing', 'VBG'), ('against', 'IN'), ('those', 'DT'), ('who', 'WP'), ('think', 'VBP'), ('he', 'PRP'), ('is', 'VBZ'), ('inferiorbr', 'JJ'), ('br', 'NN'), ('finally', 'RB'), ('the', 'DT'), ('golf', 'NN'), ('scenes', 'NNS'), ('are', 'VBP'), ('well', 'RB'), ('photographed', 'VBN'), ('although', 'IN'), ('the', 'DT'), ('course', 'NN'), ('used', 'VBN'), ('in', 'IN'), ('the', 'DT'), ('movie', 'NN'), ('was', 'VBD'), ('not', 'RB'), ('the', 'DT'), ('actual', 'JJ'), ('site', 'NN'), ('of', 'IN'), ('the', 'DT'), ('historical', 'JJ'), ('tournament', 'NN'), ('the', 'DT'), ('little', 'JJ'), ('liberties', 'NNS'), ('taken', 'VBN'), ('by', 'IN'), ('disney', 'NN'), ('do', 'VBP'), ('not', 'RB'), ('detract', 'VB'), ('from', 'IN'), ('the', 'DT'), ('beauty', 'NN'), ('of', 'IN'), ('the', 'DT'), ('film', 'NN'), ('theres', 'VBZ'), ('one', 'CD'), ('little', 'JJ'), ('disney', 'JJ'), ('moment', 'NN'), ('at', 'IN'), ('the', 'DT'), ('pool', 'NN'), ('table', 'JJ'), ('otherwise', 'RB'), ('the', 'DT'), ('viewer', 'NN'), ('does', 'VBZ'), ('not', 'RB'), ('really', 'RB'), ('think', 'VB'), ('disney', 'IN'), ('the', 'DT'), ('ending', 'VBG'), ('as', 'IN'), ('in', 'IN'), ('miracle', 'NN'), ('is', 'VBZ'), ('not', 'RB'), ('some', 'DT'), ('disney', 'NN'), ('creation', 'NN'), ('but', 'CC'), ('one', 'CD'), ('that', 'WDT'), ('only', 'RB'), ('human', 'JJ'), ('history', 'NN'), ('could', 'MD'), ('have', 'VB'), ('written', 'VBN')]\n"
     ]
    }
   ],
   "source": [
    "temp=[]\n",
    "for i,sent in enumerate(df.review.values):\n",
    "    #punctuation removal\n",
    "    sent=re.sub('['+string.punctuation+']',\"\",sent)\n",
    "    #tokenize\n",
    "    tokens=word_tokenize(sent)\n",
    "    #lower case convertion & POS tagging\n",
    "    tokens_pos=pos_tag([w.lower() for w in tokens])\n",
    "    print(tokens_pos)\n",
    "    \n",
    "    #stopwords removal & lemmatization\n",
    "    major_sent=[lemmatizer.lemmatize(w,tag_map[pos[0]]) for w,pos in tokens_pos if( w not in eng_sw)]\n",
    "    \n",
    "    temp.append(major_sent)\n",
    "    if i==2:\n",
    "        break"
   ]
  },
  {
   "cell_type": "code",
   "execution_count": null,
   "metadata": {},
   "outputs": [],
   "source": []
  }
 ],
 "metadata": {
  "kernelspec": {
   "display_name": "Python 3",
   "language": "python",
   "name": "python3"
  },
  "language_info": {
   "codemirror_mode": {
    "name": "ipython",
    "version": 3
   },
   "file_extension": ".py",
   "mimetype": "text/x-python",
   "name": "python",
   "nbconvert_exporter": "python",
   "pygments_lexer": "ipython3",
   "version": "3.7.4"
  }
 },
 "nbformat": 4,
 "nbformat_minor": 2
}
